{
 "cells": [
  {
   "cell_type": "markdown",
   "id": "96853b34-33e7-4c29-8b04-a94d8bcea415",
   "metadata": {},
   "source": [
    "**Problem 1** "
   ]
  },
  {
   "cell_type": "code",
   "execution_count": 28,
   "id": "fae93c5b-11cb-44c9-a153-4c7ff9620d05",
   "metadata": {},
   "outputs": [
    {
     "name": "stdout",
     "output_type": "stream",
     "text": [
      "+-------------+---------+-----+\n",
      "|protocol_type|logged_in|count|\n",
      "+-------------+---------+-----+\n",
      "|          tcp|        0|17350|\n",
      "|         icmp|        0| 1043|\n",
      "|          udp|        0| 2621|\n",
      "|          tcp|        1| 1530|\n",
      "+-------------+---------+-----+\n",
      "\n"
     ]
    }
   ],
   "source": [
    "from pyspark.sql import SparkSession\n",
    "from pyspark.sql.functions import split, col, count, expr, lit, rand\n",
    "from pyspark.sql.types import IntegerType\n",
    "\n",
    "spark = SparkSession.builder.appName(\"NSL-KDD\").getOrCreate()\n",
    "df = spark.read.option(\"header\", \"false\").csv('E:/Fall 24/Systems and Tools/NSL-KDD/KDDTest-.csv')\n",
    "data_split = df.withColumn('split_col', split(df['_c0'], ','))\n",
    "data_split_selected = data_split.select(\n",
    "    col('split_col').getItem(1).alias('protocol_type'),\n",
    "    col('split_col').getItem(37).cast(IntegerType()).alias('logged_in')\n",
    ")\n",
    "protocol_login_count = data_split_selected.groupBy('protocol_type', 'logged_in').count()\n",
    "protocol_login_count.show()"
   ]
  },
  {
   "cell_type": "markdown",
   "id": "9ad782f0-22d8-449c-834a-1fb2b58cc865",
   "metadata": {},
   "source": [
    "**Problem 2**"
   ]
  },
  {
   "cell_type": "code",
   "execution_count": 32,
   "id": "f8311053-c1a8-4897-aa20-3e6b556942ee",
   "metadata": {
    "scrolled": true
   },
   "outputs": [
    {
     "name": "stdout",
     "output_type": "stream",
     "text": [
      "+--------------------+--------------------+-------------+\n",
      "|                 _c0|           split_col|protocol_type|\n",
      "+--------------------+--------------------+-------------+\n",
      "|0,tcp,http,SF,219...|[0, tcp, http, SF...|          tcp|\n",
      "|0,tcp,http,SF,260...|[0, tcp, http, SF...|          tcp|\n",
      "|0,udp,domain_u,SF...|[0, udp, domain_u...|          tcp|\n",
      "|0,tcp,http,SF,276...|[0, tcp, http, SF...|          tcp|\n",
      "|0,udp,domain_u,SF...|[0, udp, domain_u...|          tcp|\n",
      "+--------------------+--------------------+-------------+\n",
      "\n"
     ]
    }
   ],
   "source": [
    "normal_traffic = data_split.filter(col('split_col').getItem(41) == 'normal')\n",
    "normal_traffic = normal_traffic.withColumn('protocol_type', expr(\"'tcp'\"))\n",
    "normal_traffic_sample = normal_traffic.sample(False, 0.05).limit(5)\n",
    "normal_traffic_sample.show()"
   ]
  },
  {
   "cell_type": "code",
   "execution_count": null,
   "id": "54b49aa4-6dcc-43b5-881a-030ab9823ee8",
   "metadata": {},
   "outputs": [],
   "source": []
  }
 ],
 "metadata": {
  "kernelspec": {
   "display_name": "Python 3 (ipykernel)",
   "language": "python",
   "name": "python3"
  },
  "language_info": {
   "codemirror_mode": {
    "name": "ipython",
    "version": 3
   },
   "file_extension": ".py",
   "mimetype": "text/x-python",
   "name": "python",
   "nbconvert_exporter": "python",
   "pygments_lexer": "ipython3",
   "version": "3.11.8"
  }
 },
 "nbformat": 4,
 "nbformat_minor": 5
}
