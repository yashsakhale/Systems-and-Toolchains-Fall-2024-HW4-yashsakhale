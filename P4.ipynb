{
 "cells": [
  {
   "cell_type": "code",
   "execution_count": 20,
   "id": "13c6048a-4374-4410-9ce2-830d814709d4",
   "metadata": {},
   "outputs": [
    {
     "name": "stdout",
     "output_type": "stream",
     "text": [
      "Showing a sample of the combined dataset including the 'data_type' column:\n",
      "+---+---+--------+---+---+----+---+----+----+----+----+----+-------+---------+\n",
      "|_c0|_c1|_c2     |_c3|_c4|_c5 |_c8|_c17|_c23|_c26|_c31|_c35|_c41   |data_type|\n",
      "+---+---+--------+---+---+----+---+----+----+----+----+----+-------+---------+\n",
      "|0  |tcp|ftp_data|SF |491|0   |0  |0   |2   |0.0 |150 |0.17|normal |train    |\n",
      "|0  |udp|other   |SF |146|0   |0  |0   |1   |0.0 |255 |0.88|normal |train    |\n",
      "|0  |tcp|private |S0 |0  |0   |0  |0   |6   |0.0 |255 |0.0 |neptune|train    |\n",
      "|0  |tcp|http    |SF |232|8153|0  |0   |5   |0.0 |30  |0.03|normal |train    |\n",
      "|0  |tcp|http    |SF |199|420 |0  |0   |32  |0.0 |255 |0.0 |normal |train    |\n",
      "|0  |tcp|private |REJ|0  |0   |0  |0   |19  |1.0 |255 |0.0 |neptune|train    |\n",
      "|0  |tcp|private |S0 |0  |0   |0  |0   |9   |0.0 |255 |0.0 |neptune|train    |\n",
      "|0  |tcp|private |S0 |0  |0   |0  |0   |16  |0.0 |255 |0.0 |neptune|train    |\n",
      "+---+---+--------+---+---+----+---+----+----+----+----+----+-------+---------+\n",
      "only showing top 8 rows\n",
      "\n"
     ]
    }
   ],
   "source": [
    "from pyspark.sql import SparkSession\n",
    "from pyspark.sql.functions import lit\n",
    "\n",
    "spark = SparkSession.builder \\\n",
    "    .appName('NSL-KDD') \\\n",
    "    .getOrCreate()\n",
    "\n",
    "spark.sparkContext.setLogLevel(\"ERROR\")\n",
    "\n",
    "train_data = spark.read.csv('E:/Fall 24/Systems and Tools/NSL-KDD/KDDTrain+.txt', header=False, inferSchema=True)\n",
    "test_data = spark.read.csv('E:/Fall 24/Systems and Tools/NSL-KDD/KDDTest+.txt', header=False, inferSchema=True)\n",
    "\n",
    "train_data = train_data.withColumn(\"data_type\", lit(\"train\"))\n",
    "test_data = test_data.withColumn(\"data_type\", lit(\"test\"))\n",
    "\n",
    "combined_data = train_data.union(test_data)\n",
    "\n",
    "url = \"jdbc:postgresql://localhost:5432/postgres\"  \n",
    "properties = {\n",
    "    \"user\": \"postgres\",\n",
    "    \"password\": \"Sakhaleyash@1\",\n",
    "    \"driver\": \"org.postgresql.Driver\"\n",
    "}\n",
    "\n",
    "combined_data.write.jdbc(url=url, table=\"nsl_kdd_data\", mode=\"overwrite\", properties=properties)\n",
    "sample_data = spark.read.jdbc(url=url, table=\"nsl_kdd_data\", properties=properties)\n",
    "\n",
    "# Verifying the data_type column has been added properly, I have only displayed random columns because displaying the full dataset is too wide for the output window\n",
    "print(\"Showing a sample of the combined dataset including the 'data_type' column:\")\n",
    "combined_data.select(\"_c0\", \"_c1\",\"_c2\",\"_c3\",\"_c4\",\"_c5\",\"_c8\",\"_c17\",\"_c23\",\"_c26\",\"_c31\",\"_c35\", \"_c41\", \"data_type\").show(8, truncate=False)\n"
   ]
  },
  {
   "cell_type": "code",
   "execution_count": null,
   "id": "4d48973a-aad8-40d0-8827-f26b128c2201",
   "metadata": {},
   "outputs": [],
   "source": []
  }
 ],
 "metadata": {
  "kernelspec": {
   "display_name": "Python 3 (ipykernel)",
   "language": "python",
   "name": "python3"
  },
  "language_info": {
   "codemirror_mode": {
    "name": "ipython",
    "version": 3
   },
   "file_extension": ".py",
   "mimetype": "text/x-python",
   "name": "python",
   "nbconvert_exporter": "python",
   "pygments_lexer": "ipython3",
   "version": "3.11.8"
  }
 },
 "nbformat": 4,
 "nbformat_minor": 5
}
